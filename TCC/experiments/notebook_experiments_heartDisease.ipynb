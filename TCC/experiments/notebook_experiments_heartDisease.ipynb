{
 "cells": [
  {
   "cell_type": "markdown",
   "id": "2addd195",
   "metadata": {},
   "source": [
    "Imports e variaveis globais"
   ]
  },
  {
   "cell_type": "code",
   "execution_count": null,
   "id": "1c181c5a",
   "metadata": {},
   "outputs": [],
   "source": [
    "import sys\n",
    "import os\n",
    "\n",
    "PROJECT_ROOT = os.path.abspath(os.path.join(os.getcwd(), '..'))\n",
    "sys.path.insert(0, PROJECT_ROOT)\n",
    "\n",
    "import pandas as pd\n",
    "from src.data_loading    import load_heart_disease\n",
    "from src.models          import get_random_forest,TorchClassifier, torch\n",
    "from src.pipeline        import CustomPipeline\n",
    "from src.utils           import plot_all_metrics, plot_metric_across_folds, plot_confusion_matrix, save_metrics_to_json\n",
    "from experiments.run_experiments        import run_experiment\n",
    "from tunning             import tune_random_forest,tune_torch_mlp\n"
   ]
  },
  {
   "cell_type": "code",
   "execution_count": null,
   "id": "9b8096b1",
   "metadata": {},
   "outputs": [],
   "source": [
    "X, y, preprocessor = load_heart_disease(PROJECT_ROOT + '/datasets/heartDisease.csv', sample_size=1000)"
   ]
  },
  {
   "cell_type": "code",
   "execution_count": null,
   "id": "5d42a34e",
   "metadata": {},
   "outputs": [],
   "source": [
    "BASE_DIR = PROJECT_ROOT+'/resuts/heart_disease_dataset/'\n",
    "FIGURES_DIR = os.path.join(BASE_DIR, 'figures')\n",
    "JSON_DIR     = os.path.join(BASE_DIR, 'json')\n",
    "TUNING_DIR    = os.path.join(BASE_DIR, 'tunning')"
   ]
  },
  {
   "cell_type": "markdown",
   "id": "d989bcaa",
   "metadata": {},
   "source": [
    "Tabela fraud, 1000 linhas, sem metodo de aumento de dados"
   ]
  },
  {
   "cell_type": "markdown",
   "id": "9317a301",
   "metadata": {},
   "source": [
    "Implementação do Random Forest"
   ]
  },
  {
   "cell_type": "code",
   "execution_count": null,
   "id": "b56f1ef5",
   "metadata": {},
   "outputs": [],
   "source": [
    "run_experiment(\n",
    "    model_name   = 'rf',\n",
    "    model        = None,\n",
    "    X            = X,\n",
    "    y            = y.to_numpy(),\n",
    "    sample_id    = '1000',\n",
    "    method       = None,\n",
    "    test_size    = 0.2,\n",
    "    figures_base = FIGURES_DIR,\n",
    "    json_base    = JSON_DIR,\n",
    "    tuner        = tune_random_forest,\n",
    "    tune_param   = 'n_estimators',\n",
    "    tuning_dir   = TUNING_DIR\n",
    ")"
   ]
  },
  {
   "cell_type": "markdown",
   "id": "caf9a28d",
   "metadata": {},
   "source": [
    "Implementação do Neural Network"
   ]
  },
  {
   "cell_type": "code",
   "execution_count": null,
   "id": "9090e287",
   "metadata": {},
   "outputs": [],
   "source": [
    "run_experiment(\n",
    "    model_name   = 'nn',\n",
    "    model        = None,\n",
    "    X            = X,\n",
    "    y            = y.to_numpy(), \n",
    "    sample_id    = '1000',\n",
    "    method       = None,\n",
    "    test_size    = 0.2,\n",
    "    figures_base = FIGURES_DIR,\n",
    "    json_base    = JSON_DIR,\n",
    "    tuner        = tune_torch_mlp,\n",
    "    tune_param   = 'hidden_dim',\n",
    "    tuning_dir   = TUNING_DIR\n",
    ")"
   ]
  },
  {
   "cell_type": "markdown",
   "id": "00b497ca",
   "metadata": {},
   "source": [
    "Implementação das 1000 linhas com cost_sensitive"
   ]
  },
  {
   "cell_type": "code",
   "execution_count": null,
   "id": "8de114a8",
   "metadata": {},
   "outputs": [],
   "source": [
    "run_experiment(\n",
    "    model_name   = 'rf',\n",
    "    model        = None,\n",
    "    X            = X,\n",
    "    y            = y.to_numpy(),\n",
    "    sample_id    = '1000',\n",
    "    method       = 'COST_SENSITIVE',\n",
    "    test_size    = 0.2,\n",
    "    figures_base = FIGURES_DIR,\n",
    "    json_base    = JSON_DIR,\n",
    "    tuner        = tune_random_forest,\n",
    "    tune_param   = 'n_estimators',\n",
    "    tuning_dir   = TUNING_DIR\n",
    ")"
   ]
  },
  {
   "cell_type": "code",
   "execution_count": null,
   "id": "9a6b39fe",
   "metadata": {},
   "outputs": [],
   "source": [
    "run_experiment(\n",
    "    model_name   = 'nn',\n",
    "    model        = None,\n",
    "    X            = X,\n",
    "    y            = y.to_numpy(), \n",
    "    sample_id    = '1000',\n",
    "    method       = 'COST_SENSITIVE',\n",
    "    test_size    = 0.2,\n",
    "    figures_base = FIGURES_DIR,\n",
    "    json_base    = JSON_DIR,\n",
    "    tuner        = tune_torch_mlp,\n",
    "    tune_param   = 'hidden_dim',\n",
    "    tuning_dir   = TUNING_DIR\n",
    ")"
   ]
  },
  {
   "cell_type": "markdown",
   "id": "d79691db",
   "metadata": {},
   "source": [
    "Implementação das 1000 linhas com Ros"
   ]
  },
  {
   "cell_type": "code",
   "execution_count": null,
   "id": "b3f420f1",
   "metadata": {},
   "outputs": [],
   "source": [
    "run_experiment(\n",
    "    model_name   = 'rf',\n",
    "    model        = None,\n",
    "    X            = X,\n",
    "    y            = y.to_numpy(),\n",
    "    sample_id    = '1000',\n",
    "    method       = 'ROS',\n",
    "    test_size    = 0.2,\n",
    "    figures_base = FIGURES_DIR,\n",
    "    json_base    = JSON_DIR,\n",
    "    tuner        = tune_random_forest,\n",
    "    tune_param   = 'n_estimators',\n",
    "    tuning_dir   = TUNING_DIR\n",
    ")"
   ]
  },
  {
   "cell_type": "code",
   "execution_count": null,
   "id": "9eefd76a",
   "metadata": {},
   "outputs": [],
   "source": [
    "run_experiment(\n",
    "    model_name   = 'nn',\n",
    "    model        = None,\n",
    "    X            = X,\n",
    "    y            = y.to_numpy(), \n",
    "    sample_id    = '1000',\n",
    "    method       = 'ROS',\n",
    "    test_size    = 0.2,\n",
    "    figures_base = FIGURES_DIR,\n",
    "    json_base    = JSON_DIR,\n",
    "    tuner        = tune_torch_mlp,\n",
    "    tune_param   = 'hidden_dim',\n",
    "    tuning_dir   = TUNING_DIR\n",
    ")"
   ]
  },
  {
   "cell_type": "markdown",
   "id": "5a482018",
   "metadata": {},
   "source": [
    "Implementação das 1000 linhas com RUS"
   ]
  },
  {
   "cell_type": "code",
   "execution_count": null,
   "id": "55bd75f9",
   "metadata": {},
   "outputs": [],
   "source": [
    "run_experiment(\n",
    "    model_name   = 'rf',\n",
    "    model        = None,\n",
    "    X            = X,\n",
    "    y            = y.to_numpy(),\n",
    "    sample_id    = '1000',\n",
    "    method       = 'RUS',\n",
    "    test_size    = 0.2,\n",
    "    figures_base = FIGURES_DIR,\n",
    "    json_base    = JSON_DIR,\n",
    "    tuner        = tune_random_forest,\n",
    "    tune_param   = 'n_estimators',\n",
    "    tuning_dir   = TUNING_DIR\n",
    ")"
   ]
  },
  {
   "cell_type": "code",
   "execution_count": null,
   "id": "47f8d7ea",
   "metadata": {},
   "outputs": [],
   "source": [
    "run_experiment(\n",
    "    model_name   = 'nn',\n",
    "    model        = None,\n",
    "    X            = X,\n",
    "    y            = y.to_numpy(), \n",
    "    sample_id    = '1000',\n",
    "    method       = 'RUS',\n",
    "    test_size    = 0.2,\n",
    "    figures_base = FIGURES_DIR,\n",
    "    json_base    = JSON_DIR,\n",
    "    tuner        = tune_torch_mlp,\n",
    "    tune_param   = 'hidden_dim',\n",
    "    tuning_dir   = TUNING_DIR\n",
    ")"
   ]
  },
  {
   "cell_type": "markdown",
   "id": "d40cec9a",
   "metadata": {},
   "source": [
    "Implementação das 1000 linhas com SMOTE"
   ]
  },
  {
   "cell_type": "code",
   "execution_count": null,
   "id": "609f02a9",
   "metadata": {},
   "outputs": [],
   "source": [
    "run_experiment(\n",
    "    model_name   = 'rf',\n",
    "    model        = None,\n",
    "    X            = X,\n",
    "    y            = y.to_numpy(),\n",
    "    sample_id    = '1000',\n",
    "    method       = 'SMOTE',\n",
    "    test_size    = 0.2,\n",
    "    figures_base = FIGURES_DIR,\n",
    "    json_base    = JSON_DIR,\n",
    "    tuner        = tune_random_forest,\n",
    "    tune_param   = 'n_estimators',\n",
    "    tuning_dir   = TUNING_DIR\n",
    ")"
   ]
  },
  {
   "cell_type": "code",
   "execution_count": null,
   "id": "b90053b2",
   "metadata": {},
   "outputs": [],
   "source": [
    "run_experiment(\n",
    "    model_name   = 'nn',\n",
    "    model        = None,\n",
    "    X            = X,\n",
    "    y            = y.to_numpy(), \n",
    "    sample_id    = '1000',\n",
    "    method       = 'SMOTE',\n",
    "    test_size    = 0.2,\n",
    "    figures_base = FIGURES_DIR,\n",
    "    json_base    = JSON_DIR,\n",
    "    tuner        = tune_torch_mlp,\n",
    "    tune_param   = 'hidden_dim',\n",
    "    tuning_dir   = TUNING_DIR\n",
    ")"
   ]
  },
  {
   "cell_type": "markdown",
   "id": "8515b8af",
   "metadata": {},
   "source": [
    "Implementação das 1000 linhas com ADASYN"
   ]
  },
  {
   "cell_type": "code",
   "execution_count": null,
   "id": "2281b371",
   "metadata": {},
   "outputs": [],
   "source": [
    "run_experiment(\n",
    "    model_name   = 'rf',\n",
    "    model        = None,\n",
    "    X            = X,\n",
    "    y            = y.to_numpy(),\n",
    "    sample_id    = '1000',\n",
    "    method       = 'ADASYN',\n",
    "    test_size    = 0.2,\n",
    "    figures_base = FIGURES_DIR,\n",
    "    json_base    = JSON_DIR,\n",
    "    tuner        = tune_random_forest,\n",
    "    tune_param   = 'n_estimators',\n",
    "    tuning_dir   = TUNING_DIR\n",
    ")"
   ]
  },
  {
   "cell_type": "code",
   "execution_count": null,
   "id": "f037d0f6",
   "metadata": {},
   "outputs": [],
   "source": [
    "run_experiment(\n",
    "    model_name   = 'nn',\n",
    "    model        = None,\n",
    "    X            = X,\n",
    "    y            = y.to_numpy(), \n",
    "    sample_id    = '1000',\n",
    "    method       = 'ADASYN',\n",
    "    test_size    = 0.2,\n",
    "    figures_base = FIGURES_DIR,\n",
    "    json_base    = JSON_DIR,\n",
    "    tuner        = tune_torch_mlp,\n",
    "    tune_param   = 'hidden_dim',\n",
    "    tuning_dir   = TUNING_DIR\n",
    ")"
   ]
  },
  {
   "cell_type": "markdown",
   "id": "de9eb8c8",
   "metadata": {},
   "source": [
    "Implementacao 1000 linhas com CLUSTER"
   ]
  },
  {
   "cell_type": "code",
   "execution_count": null,
   "id": "e22211fb",
   "metadata": {},
   "outputs": [],
   "source": [
    "run_experiment(\n",
    "    model_name   = 'rf',\n",
    "    model        = None,\n",
    "    X            = X,\n",
    "    y            = y.to_numpy(),\n",
    "    sample_id    = '1000',\n",
    "    method       = 'CLUSTER',\n",
    "    test_size    = 0.2,\n",
    "    figures_base = FIGURES_DIR,\n",
    "    json_base    = JSON_DIR,\n",
    "    tuner        = tune_random_forest,\n",
    "    tune_param   = 'n_estimators',\n",
    "    tuning_dir   = TUNING_DIR\n",
    ")"
   ]
  },
  {
   "cell_type": "code",
   "execution_count": null,
   "id": "df28e874",
   "metadata": {},
   "outputs": [],
   "source": [
    "run_experiment(\n",
    "    model_name   = 'nn',\n",
    "    model        = None,\n",
    "    X            = X,\n",
    "    y            = y.to_numpy(), \n",
    "    sample_id    = '1000',\n",
    "    method       = 'CLUSTER',\n",
    "    test_size    = 0.2,\n",
    "    figures_base = FIGURES_DIR,\n",
    "    json_base    = JSON_DIR,\n",
    "    tuner        = tune_torch_mlp,\n",
    "    tune_param   = 'hidden_dim',\n",
    "    tuning_dir   = TUNING_DIR\n",
    ")"
   ]
  }
 ],
 "metadata": {
  "kernelspec": {
   "display_name": "venv",
   "language": "python",
   "name": "python3"
  },
  "language_info": {
   "codemirror_mode": {
    "name": "ipython",
    "version": 3
   },
   "file_extension": ".py",
   "mimetype": "text/x-python",
   "name": "python",
   "nbconvert_exporter": "python",
   "pygments_lexer": "ipython3",
   "version": "3.13.1"
  }
 },
 "nbformat": 4,
 "nbformat_minor": 5
}
